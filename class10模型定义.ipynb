{
 "cells": [
  {
   "cell_type": "code",
   "execution_count": 34,
   "id": "initial_id",
   "metadata": {
    "collapsed": true,
    "ExecuteTime": {
     "end_time": "2023-10-28T05:16:10.301981900Z",
     "start_time": "2023-10-28T05:16:10.262986400Z"
    }
   },
   "outputs": [],
   "source": [
    "import torch\n",
    "import torch.nn as nn\n",
    "\n",
    "X = torch.tensor([\n",
    "    [1],\n",
    "    [2],\n",
    "    [3],\n",
    "    [4]\n",
    "],dtype=torch.float32)\n",
    "Y = torch.tensor([\n",
    "    [2],\n",
    "    [4],\n",
    "    [6],\n",
    "    [8]\n",
    "],dtype=torch.float32)\n",
    "\n",
    "#获得定义模型\n",
    "n_samples,in_dims = X. shape#行、列分别作为样本个数，特征个数\n",
    "n_lables,out_dims = Y. shape#行、列为标记个数，1或多个值(类别)\n",
    "#定义模型1.输入维度 2.输出的维度\n",
    "model = torch.nn.Linear(in_dims, out_dims)\n",
    "# print (model)"
   ]
  },
  {
   "cell_type": "code",
   "execution_count": 35,
   "outputs": [],
   "source": [
    "loss = torch.nn.MSELoss()\n",
    "opitimizer = torch.optim.SGD(model.parameters(),lr = 0.1)\n",
    "\n",
    "# print(model.parameters())"
   ],
   "metadata": {
    "collapsed": false,
    "ExecuteTime": {
     "end_time": "2023-10-28T05:16:10.301981900Z",
     "start_time": "2023-10-28T05:16:10.283553100Z"
    }
   },
   "id": "9bdf4a26a85fad02"
  },
  {
   "cell_type": "code",
   "execution_count": 38,
   "outputs": [
    {
     "name": "stdout",
     "output_type": "stream",
     "text": [
      "loss=0.00003497,w=1.9952,b=0.0140\n",
      "loss=0.00001904,w=1.9965,b=0.0104\n",
      "loss=0.00001037,w=1.9974,b=0.0076\n",
      "loss=0.00000564,w=1.9981,b=0.0056\n",
      "loss=0.00000307,w=1.9986,b=0.0042\n",
      "loss=0.00000167,w=1.9990,b=0.0031\n",
      "loss=0.00000091,w=1.9992,b=0.0023\n",
      "loss=0.00000050,w=1.9994,b=0.0017\n",
      "loss=0.00000027,w=1.9996,b=0.0012\n",
      "loss=0.00000015,w=1.9997,b=0.0009\n"
     ]
    }
   ],
   "source": [
    "for epoch in range(100):\n",
    "# 1.正向传播\n",
    "    pre = model(X)\n",
    "#2.计算损失\n",
    "    ls = loss(Y,pre)\n",
    "# 3.向后传播 (计算梯度)\n",
    "    ls.backward()\n",
    "#4.更新权重，即向梯度反方向走一步，由优化器完成\n",
    "    opitimizer.step()\n",
    "#5.清空梯度，由优化器完成\n",
    "    opitimizer.zero_grad()\n",
    "    if epoch % 10 ==0:\n",
    "        w,b = model.parameters()\n",
    "        print(f\"loss={ls.item():.8f},w={w.item():.4f},b={b.item():.4f}\")\n"
   ],
   "metadata": {
    "collapsed": false,
    "ExecuteTime": {
     "end_time": "2023-10-28T12:08:35.508704500Z",
     "start_time": "2023-10-28T12:08:35.434287300Z"
    }
   },
   "id": "de40144cb3defad4"
  },
  {
   "cell_type": "code",
   "execution_count": 37,
   "outputs": [],
   "source": [
    "# list(model.parameters())"
   ],
   "metadata": {
    "collapsed": false,
    "ExecuteTime": {
     "end_time": "2023-10-28T05:16:10.360633200Z",
     "start_time": "2023-10-28T05:16:10.331449200Z"
    }
   },
   "id": "3c7614655c2a8885"
  }
 ],
 "metadata": {
  "kernelspec": {
   "display_name": "Python 3",
   "language": "python",
   "name": "python3"
  },
  "language_info": {
   "codemirror_mode": {
    "name": "ipython",
    "version": 2
   },
   "file_extension": ".py",
   "mimetype": "text/x-python",
   "name": "python",
   "nbconvert_exporter": "python",
   "pygments_lexer": "ipython2",
   "version": "2.7.6"
  }
 },
 "nbformat": 4,
 "nbformat_minor": 5
}
