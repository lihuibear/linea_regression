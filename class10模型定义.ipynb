{
 "cells": [
  {
   "cell_type": "code",
   "execution_count": 34,
   "id": "initial_id",
   "metadata": {
    "collapsed": true,
    "ExecuteTime": {
     "end_time": "2023-10-28T05:16:10.301981900Z",
     "start_time": "2023-10-28T05:16:10.262986400Z"
    }
   },
   "outputs": [],
   "source": [
    "import torch\n",
    "import torch.nn as nn\n",
    "\n",
    "X = torch.tensor([\n",
    "    [1],\n",
    "    [2],\n",
    "    [3],\n",
    "    [4]\n",
    "],dtype=torch.float32)\n",
    "Y = torch.tensor([\n",
    "    [2],\n",
    "    [4],\n",
    "    [6],\n",
    "    [8]\n",
    "],dtype=torch.float32)\n",
    "\n",
    "#获得定义模型\n",
    "n_samples,in_dims = X. shape#行、列分别作为样本个数，特征个数\n",
    "n_lables,out_dims = Y. shape#行、列为标记个数，1或多个值(类别)\n",
    "#定义模型1.输入维度 2.输出的维度\n",
    "model = torch.nn.Linear(in_dims, out_dims)\n",
    "# print (model)"
   ]
  },
  {
   "cell_type": "code",
   "execution_count": 35,
   "outputs": [],
   "source": [
    "loss = torch.nn.MSELoss()\n",
    "opitimizer = torch.optim.SGD(model.parameters(),lr = 0.1)\n",
    "\n",
    "# print(model.parameters())"
   ],
   "metadata": {
    "collapsed": false,
    "ExecuteTime": {
     "end_time": "2023-10-28T05:16:10.301981900Z",
     "start_time": "2023-10-28T05:16:10.283553100Z"
    }
   },
   "id": "9bdf4a26a85fad02"
  },
  {
   "cell_type": "code",
   "execution_count": 36,
   "outputs": [
    {
     "name": "stdout",
     "output_type": "stream",
     "text": [
      "loss=68.81237793,w=3.7211,b=0.9126\n",
      "loss=0.03121567,w=1.9596,b=0.2277\n",
      "loss=0.00453471,w=1.9463,b=0.1599\n",
      "loss=0.00246490,w=1.9599,b=0.1179\n",
      "loss=0.00134208,w=1.9704,b=0.0870\n",
      "loss=0.00073074,w=1.9782,b=0.0642\n",
      "loss=0.00039787,w=1.9839,b=0.0473\n",
      "loss=0.00021663,w=1.9881,b=0.0349\n",
      "loss=0.00011795,w=1.9912,b=0.0258\n",
      "loss=0.00006422,w=1.9935,b=0.0190\n"
     ]
    }
   ],
   "source": [
    "for epoch in range(100):\n",
    "# 1.正向传播\n",
    "    pre = model(X)\n",
    "#2.计算损失\n",
    "    ls = loss(Y,pre)\n",
    "# 3.向后传播 (计算梯度)\n",
    "    ls.backward()\n",
    "#4.更新权重，即向梯度反方向走一步，由优化器完成\n",
    "    opitimizer.step()\n",
    "#5.清空梯度，由优化器完成\n",
    "    opitimizer.zero_grad()\n",
    "    if epoch % 10 ==0:\n",
    "        w,b = model.parameters()\n",
    "        print(f\"loss={ls.item():.8f},w={w.item():.4f},b={b.item():.4f}\")"
   ],
   "metadata": {
    "collapsed": false,
    "ExecuteTime": {
     "end_time": "2023-10-28T05:16:10.355677900Z",
     "start_time": "2023-10-28T05:16:10.299578500Z"
    }
   },
   "id": "de40144cb3defad4"
  },
  {
   "cell_type": "code",
   "execution_count": 37,
   "outputs": [],
   "source": [
    "# list(model.parameters())"
   ],
   "metadata": {
    "collapsed": false,
    "ExecuteTime": {
     "end_time": "2023-10-28T05:16:10.360633200Z",
     "start_time": "2023-10-28T05:16:10.331449200Z"
    }
   },
   "id": "3c7614655c2a8885"
  }
 ],
 "metadata": {
  "kernelspec": {
   "display_name": "Python 3",
   "language": "python",
   "name": "python3"
  },
  "language_info": {
   "codemirror_mode": {
    "name": "ipython",
    "version": 2
   },
   "file_extension": ".py",
   "mimetype": "text/x-python",
   "name": "python",
   "nbconvert_exporter": "python",
   "pygments_lexer": "ipython2",
   "version": "2.7.6"
  }
 },
 "nbformat": 4,
 "nbformat_minor": 5
}
