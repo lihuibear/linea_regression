{
 "cells": [
  {
   "cell_type": "code",
   "execution_count": 1,
   "id": "initial_id",
   "metadata": {
    "collapsed": true,
    "ExecuteTime": {
     "end_time": "2023-10-21T14:00:21.253352600Z",
     "start_time": "2023-10-21T14:00:19.272045600Z"
    }
   },
   "outputs": [
    {
     "name": "stdout",
     "output_type": "stream",
     "text": [
      "loss = 7.5,w = 1.149999976158142\n",
      "loss = 0.2906963527202606,w = 1.832656741142273\n",
      "loss = 0.011267285794019699,w = 1.9670543670654297\n",
      "loss = 0.00043670617742463946,w = 1.9935139417648315\n",
      "loss = 1.692865407676436e-05,w = 1.9987229108810425\n",
      "loss = 6.560999281646218e-07,w = 1.9997485876083374\n",
      "loss = 2.5496280642300917e-08,w = 1.9999504089355469\n",
      "loss = 9.822542779147625e-10,w = 1.9999902248382568\n",
      "loss = 3.807443249570497e-11,w = 1.9999980926513672\n",
      "loss = 8.988365607365267e-13,w = 1.9999996423721313\n"
     ]
    }
   ],
   "source": [
    "import torch\n",
    "# 模型为: f(x)=w * x\n",
    "# 定义测试数据(与之前的数据不同，为成批数据，batch=4) 可pycharm调试观察\n",
    "\n",
    "X = torch.tensor([1,2,3,4],dtype=torch.float32)\n",
    "Y = torch.tensor([2,4,6,8],dtype=torch.float32)\n",
    "W = torch.tensor(1,dtype=torch.float32,requires_grad=True)\n",
    "\n",
    "#1.正向传播\n",
    "#构建计算图\n",
    "def forward(W,X):\n",
    "    return W * X\n",
    "\n",
    "def lossFunction(y_pred,y): #确定损失函数\n",
    "    return ((y_pred - y) ** 2).mean() #成批计算，从X和Y的定义也可以看出\n",
    "\n",
    "#模型训练过程\n",
    "learning_rate = 0.01\n",
    "epoch  = 100 \n",
    "for i in range(epoch):\n",
    "    # 1.正向传播\n",
    "    pred = forward(W,X)\n",
    "    #2.计算损失\n",
    "    loss = lossFunction(pred,Y)\n",
    "    # 3.向后传播\n",
    "    loss.backward()\n",
    "    #4.更新参数\n",
    "    W.data = W.data - learning_rate * W.grad\n",
    "    #5.清空梯度\n",
    "    W.grad.zero_()\n",
    "    \n",
    "    if i % 10 == 0:\n",
    "        print(f\"loss = {loss.item()},w = {W.item()}\")"
   ]
  },
  {
   "cell_type": "code",
   "execution_count": 5,
   "outputs": [],
   "source": [],
   "metadata": {
    "collapsed": false,
    "ExecuteTime": {
     "end_time": "2023-10-21T14:00:11.084659800Z",
     "start_time": "2023-10-21T14:00:11.042544Z"
    }
   },
   "id": "b1864280bfb9ebf5"
  }
 ],
 "metadata": {
  "kernelspec": {
   "display_name": "Python 3",
   "language": "python",
   "name": "python3"
  },
  "language_info": {
   "codemirror_mode": {
    "name": "ipython",
    "version": 2
   },
   "file_extension": ".py",
   "mimetype": "text/x-python",
   "name": "python",
   "nbconvert_exporter": "python",
   "pygments_lexer": "ipython2",
   "version": "2.7.6"
  }
 },
 "nbformat": 4,
 "nbformat_minor": 5
}
