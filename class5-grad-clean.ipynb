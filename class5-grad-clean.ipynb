{
 "cells": [
  {
   "cell_type": "code",
   "execution_count": 8,
   "id": "initial_id",
   "metadata": {
    "collapsed": true,
    "ExecuteTime": {
     "end_time": "2023-10-21T07:41:53.767628400Z",
     "start_time": "2023-10-21T07:41:53.731643600Z"
    }
   },
   "outputs": [
    {
     "name": "stdout",
     "output_type": "stream",
     "text": [
      "tensor([1., 1., 1., 1.], requires_grad=True) tensor(12., grad_fn=<SumBackward0>) tensor(8., grad_fn=<SumBackward0>)\n"
     ]
    }
   ],
   "source": [
    "import torch\n",
    "#首先定义张量(需要计算梯度)\n",
    "x = torch.ones(4,requires_grad=True)\n",
    "\n",
    "# 将x作为输入，分别建立两个 复合函数 y 和 z\n",
    "#1.第一个复合函数\n",
    "y = ( 2 * x + 1 ).sum()\n",
    "#问题:为什么要sum()??? \n",
    "# PyTorch 中的自动微分通常涉及批量数据处理，而 .sum() 用于将批量数据中的损失值求和，以便计算平均损失和梯度\n",
    "#2.第二个复合函数\n",
    "z = ( 2 * x ).sum()\n",
    "\n",
    "print(x,y,z)"
   ]
  },
  {
   "cell_type": "code",
   "execution_count": 9,
   "outputs": [
    {
     "name": "stdout",
     "output_type": "stream",
     "text": [
      "dy/dx偏导数: tensor([2., 2., 2., 2.])\n",
      "dz/dx偏导数: tensor([2., 2., 2., 2.])\n"
     ]
    }
   ],
   "source": [
    "#  调用 y和z的向后传播(自动计算梯度) \n",
    "y.backward()\n",
    "print(\"dy/dx偏导数:\",x.grad)\n",
    "\n",
    "# 梯度清空\n",
    "x.grad.zero_()\n",
    "\n",
    "z.backward()\n",
    "print(\"dz/dx偏导数:\",x.grad)"
   ],
   "metadata": {
    "collapsed": false,
    "ExecuteTime": {
     "end_time": "2023-10-21T07:41:53.768628400Z",
     "start_time": "2023-10-21T07:41:53.753666900Z"
    }
   },
   "id": "1985a4f6a951fa2b"
  },
  {
   "cell_type": "code",
   "execution_count": 9,
   "outputs": [],
   "source": [],
   "metadata": {
    "collapsed": false,
    "ExecuteTime": {
     "end_time": "2023-10-21T07:41:53.779912600Z",
     "start_time": "2023-10-21T07:41:53.760629Z"
    }
   },
   "id": "d6e275bba0427bcd"
  }
 ],
 "metadata": {
  "kernelspec": {
   "display_name": "Python 3",
   "language": "python",
   "name": "python3"
  },
  "language_info": {
   "codemirror_mode": {
    "name": "ipython",
    "version": 2
   },
   "file_extension": ".py",
   "mimetype": "text/x-python",
   "name": "python",
   "nbconvert_exporter": "python",
   "pygments_lexer": "ipython2",
   "version": "2.7.6"
  }
 },
 "nbformat": 4,
 "nbformat_minor": 5
}
