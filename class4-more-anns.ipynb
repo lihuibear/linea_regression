{
 "cells": [
  {
   "cell_type": "code",
   "execution_count": 12,
   "id": "initial_id",
   "metadata": {
    "collapsed": true,
    "ExecuteTime": {
     "end_time": "2023-10-21T06:36:29.769657500Z",
     "start_time": "2023-10-21T06:36:29.743605Z"
    }
   },
   "outputs": [],
   "source": [
    "# 多层神经网络计算梯度案例\n",
    "# x中的特征数据批量定义，batch=3\n",
    "import torch\n",
    "    \n",
    "x = torch.randn(3,requires_grad=True)\n",
    "#x = {x1,x2,x3}\n",
    "# 第二层定义\n",
    "y = x + 2\n",
    "# 输出层定义\n",
    "z = 3 * y ** 2 # 3倍的y的平方\n",
    "\n",
    "#建立J函数，可向后传播(此处J=z.mean()，该函数无实际意义\n",
    "z = z.mean() # z = (z1+z2+z3)/3 只有标量可以向后传播"
   ]
  },
  {
   "cell_type": "code",
   "execution_count": 13,
   "outputs": [
    {
     "name": "stdout",
     "output_type": "stream",
     "text": [
      "tensor([0.1716, 0.2358, 0.0159], requires_grad=True)\n",
      "tensor([2.1716, 2.2358, 2.0159], grad_fn=<AddBackward0>)\n",
      "tensor(13.7783, grad_fn=<MeanBackward0>)\n"
     ]
    }
   ],
   "source": [
    "print(x)\n",
    "print(y)\n",
    "print(z)"
   ],
   "metadata": {
    "collapsed": false,
    "ExecuteTime": {
     "end_time": "2023-10-21T06:36:29.779654700Z",
     "start_time": "2023-10-21T06:36:29.769657500Z"
    }
   },
   "id": "31ffccd16412c50a"
  },
  {
   "cell_type": "code",
   "execution_count": 14,
   "outputs": [
    {
     "name": "stdout",
     "output_type": "stream",
     "text": [
      "tensor([4.3432, 4.4716, 4.0317])\n",
      "tensor([4.3432, 4.4716, 4.0317], grad_fn=<MulBackward0>)\n"
     ]
    }
   ],
   "source": [
    "z.backward()\n",
    "print(x.grad)\n",
    "print(2 * (x + 2))\n"
   ],
   "metadata": {
    "collapsed": false,
    "ExecuteTime": {
     "end_time": "2023-10-21T06:36:29.838282800Z",
     "start_time": "2023-10-21T06:36:29.779654700Z"
    }
   },
   "id": "80d7ad0bb479a1cd"
  },
  {
   "cell_type": "code",
   "execution_count": 14,
   "outputs": [],
   "source": [
    " "
   ],
   "metadata": {
    "collapsed": false,
    "ExecuteTime": {
     "end_time": "2023-10-21T06:36:29.846271600Z",
     "start_time": "2023-10-21T06:36:29.795755Z"
    }
   },
   "id": "f2e18a9f306d823e"
  }
 ],
 "metadata": {
  "kernelspec": {
   "display_name": "Python 3",
   "language": "python",
   "name": "python3"
  },
  "language_info": {
   "codemirror_mode": {
    "name": "ipython",
    "version": 2
   },
   "file_extension": ".py",
   "mimetype": "text/x-python",
   "name": "python",
   "nbconvert_exporter": "python",
   "pygments_lexer": "ipython2",
   "version": "2.7.6"
  }
 },
 "nbformat": 4,
 "nbformat_minor": 5
}
