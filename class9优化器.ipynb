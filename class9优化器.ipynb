{
 "cells": [
  {
   "cell_type": "code",
   "execution_count": 1,
   "id": "initial_id",
   "metadata": {
    "collapsed": true,
    "ExecuteTime": {
     "end_time": "2023-10-28T01:31:01.978670200Z",
     "start_time": "2023-10-28T01:31:00.353008200Z"
    }
   },
   "outputs": [
    {
     "name": "stdout",
     "output_type": "stream",
     "text": [
      "SGD (\n",
      "Parameter Group 0\n",
      "    dampening: 0\n",
      "    differentiable: False\n",
      "    foreach: None\n",
      "    lr: 0.01\n",
      "    maximize: False\n",
      "    momentum: 0\n",
      "    nesterov: False\n",
      "    weight_decay: 0\n",
      ")\n"
     ]
    }
   ],
   "source": [
    "import torch\n",
    "import torch.nn as nn\n",
    "\n",
    "X = torch.tensor([1,2,3,4],dtype=torch.float32)\n",
    "Y = torch.tensor([2,4,6,8],dtype=torch.float32)\n",
    "W = torch.tensor(0.0,dtype=torch.float32,requires_grad=True)\n",
    "#向前传播\n",
    "def forward(X):\n",
    "    return W * X\n",
    "# pytorch方法调用MSE损失函数\n",
    "loss = torch.nn.MSELoss()\n",
    "learning_rate = 0.01\n",
    "n_iters = 100\n",
    "loss = nn.MSELoss()\n",
    "optimizer = torch.optim.SGD([W],lr = learning_rate)\n",
    "print(optimizer)\n",
    "\n"
   ]
  },
  {
   "cell_type": "code",
   "execution_count": 2,
   "outputs": [
    {
     "name": "stdout",
     "output_type": "stream",
     "text": [
      "epoch:0,w=0.29999998211860657,loss=30.00000000\n",
      "epoch:10,w=1.6653136014938354,loss=1.16278565\n",
      "epoch:20,w=1.934108853340149,loss=0.04506890\n",
      "epoch:30,w=1.987027645111084,loss=0.00174685\n",
      "epoch:40,w=1.9974461793899536,loss=0.00006770\n",
      "epoch:50,w=1.9994971752166748,loss=0.00000262\n",
      "epoch:60,w=1.9999010562896729,loss=0.00000010\n",
      "epoch:70,w=1.9999804496765137,loss=0.00000000\n",
      "epoch:80,w=1.999996304512024,loss=0.00000000\n",
      "epoch:90,w=1.9999992847442627,loss=0.00000000\n"
     ]
    }
   ],
   "source": [
    "# 开始模型训练\n",
    "for epoch in range(n_iters):\n",
    "# 1.正向传播\n",
    "    y_pre = forward(X)\n",
    "#2.计算损失\n",
    "    l = loss(Y,y_pre)\n",
    "# 3.向后传播 (计算梯度)\n",
    "    l.backward()\n",
    "#4.更新权重，即向梯度反方向走一步，由优化器完成\n",
    "    optimizer.step()\n",
    "#5.清空梯度，由优化器完成\n",
    "    optimizer.zero_grad()\n",
    "    if epoch % 10 == 0:\n",
    "        print(f\"epoch:{epoch},w={W},loss={l:.8f}\")"
   ],
   "metadata": {
    "collapsed": false,
    "ExecuteTime": {
     "end_time": "2023-10-28T01:31:02.039458700Z",
     "start_time": "2023-10-28T01:31:01.980672Z"
    }
   },
   "id": "1e6e28ec5fe2f890"
  }
 ],
 "metadata": {
  "kernelspec": {
   "display_name": "Python 3",
   "language": "python",
   "name": "python3"
  },
  "language_info": {
   "codemirror_mode": {
    "name": "ipython",
    "version": 2
   },
   "file_extension": ".py",
   "mimetype": "text/x-python",
   "name": "python",
   "nbconvert_exporter": "python",
   "pygments_lexer": "ipython2",
   "version": "2.7.6"
  }
 },
 "nbformat": 4,
 "nbformat_minor": 5
}
