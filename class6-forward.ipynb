{
 "cells": [
  {
   "cell_type": "code",
   "execution_count": 8,
   "id": "initial_id",
   "metadata": {
    "collapsed": true,
    "ExecuteTime": {
     "end_time": "2023-10-21T09:17:18.662766800Z",
     "start_time": "2023-10-21T09:17:18.629967500Z"
    }
   },
   "outputs": [
    {
     "name": "stdout",
     "output_type": "stream",
     "text": [
      "tensor(1.) tensor(2.)\n",
      "tensor([-0.5636], requires_grad=True)\n",
      "tensor([-0.5636], grad_fn=<MulBackward0>)\n"
     ]
    }
   ],
   "source": [
    "import torch\n",
    "x = torch.tensor(1.)\n",
    "y = torch.tensor(2.)\n",
    "\n",
    "w = torch.randn(1,requires_grad=True)\n",
    "print(x,y)\n",
    "print(w)\n",
    "\n",
    "def forward(x,w):\n",
    "    pred =  w * x\n",
    "    return pred\n",
    "\n",
    "predict = forward(x,w)\n",
    "print(predict)"
   ]
  },
  {
   "cell_type": "code",
   "execution_count": 9,
   "outputs": [
    {
     "name": "stdout",
     "output_type": "stream",
     "text": [
      "tensor([6.5721], grad_fn=<PowBackward0>)\n"
     ]
    }
   ],
   "source": [
    "loss = (predict-y) ** 2\n",
    "print(loss)"
   ],
   "metadata": {
    "collapsed": false,
    "ExecuteTime": {
     "end_time": "2023-10-21T09:17:18.664782600Z",
     "start_time": "2023-10-21T09:17:18.648075900Z"
    }
   },
   "id": "b3594473fe152787"
  },
  {
   "cell_type": "code",
   "execution_count": 10,
   "outputs": [
    {
     "name": "stdout",
     "output_type": "stream",
     "text": [
      "tensor([-5.1272])\n"
     ]
    }
   ],
   "source": [
    "loss.backward()\n",
    "print(w.grad)"
   ],
   "metadata": {
    "collapsed": false,
    "ExecuteTime": {
     "end_time": "2023-10-21T09:17:18.678888700Z",
     "start_time": "2023-10-21T09:17:18.661238600Z"
    }
   },
   "id": "51e878941eafacb9"
  },
  {
   "cell_type": "code",
   "execution_count": 10,
   "outputs": [],
   "source": [],
   "metadata": {
    "collapsed": false,
    "ExecuteTime": {
     "end_time": "2023-10-21T09:17:18.748778300Z",
     "start_time": "2023-10-21T09:17:18.673884200Z"
    }
   },
   "id": "27d9f81493583144"
  }
 ],
 "metadata": {
  "kernelspec": {
   "display_name": "Python 3",
   "language": "python",
   "name": "python3"
  },
  "language_info": {
   "codemirror_mode": {
    "name": "ipython",
    "version": 2
   },
   "file_extension": ".py",
   "mimetype": "text/x-python",
   "name": "python",
   "nbconvert_exporter": "python",
   "pygments_lexer": "ipython2",
   "version": "2.7.6"
  }
 },
 "nbformat": 4,
 "nbformat_minor": 5
}
