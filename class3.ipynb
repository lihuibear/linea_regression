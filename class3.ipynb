{
 "cells": [
  {
   "cell_type": "code",
   "execution_count": 53,
   "id": "initial_id",
   "metadata": {
    "collapsed": true,
    "ExecuteTime": {
     "end_time": "2023-10-21T03:41:17.624094600Z",
     "start_time": "2023-10-21T03:41:17.567046Z"
    }
   },
   "outputs": [],
   "source": [
    "import torch\n",
    "\n",
    "m1 = torch.randn(1,requires_grad=True)\n",
    "m2 = torch.randn(1,requires_grad=False)\n",
    "b1 = torch.randn(1)\n",
    "b2 = torch.randn(1)"
   ]
  },
  {
   "cell_type": "code",
   "execution_count": 54,
   "outputs": [
    {
     "name": "stdout",
     "output_type": "stream",
     "text": [
      "tensor([1.6874], requires_grad=True)\n",
      "tensor([-1.5371])\n",
      "tensor([-0.6838]) tensor([0.1900])\n"
     ]
    }
   ],
   "source": [
    "print(m1)\n",
    "print(m2)\n",
    "print(b1,b2)"
   ],
   "metadata": {
    "collapsed": false,
    "ExecuteTime": {
     "end_time": "2023-10-21T03:41:17.625096100Z",
     "start_time": "2023-10-21T03:41:17.590097500Z"
    }
   },
   "id": "df90f39a8cb30a6"
  },
  {
   "cell_type": "code",
   "execution_count": 55,
   "outputs": [
    {
     "name": "stdout",
     "output_type": "stream",
     "text": [
      "2 5\n"
     ]
    }
   ],
   "source": [
    "def forward1(x):\n",
    "    global m1,b1\n",
    "    return m1 * x + b1\n",
    "def forward2(x):\n",
    "    global m2,b2\n",
    "    return m2 * x + b2\n",
    "data  = [ [2,5] ] # m = 2 ,b =1 最佳\n",
    "x = data[0][0]\n",
    "y = data[0][1]\n",
    "print(x,y)"
   ],
   "metadata": {
    "collapsed": false,
    "ExecuteTime": {
     "end_time": "2023-10-21T03:41:17.625096100Z",
     "start_time": "2023-10-21T03:41:17.605095300Z"
    }
   },
   "id": "717d0b6f66070ae8"
  },
  {
   "cell_type": "code",
   "execution_count": 56,
   "outputs": [],
   "source": [
    "# 1.前向传播,构建了计算图\n",
    "predipt1 = forward1(x)\n",
    "predict2 = forward2(x)\n",
    "\n",
    "# 构造损失(代价)函数\n",
    "loss1 = ( y - predipt1 ) ** 2\n",
    "loss2 = ( y - predict2 ) ** 2"
   ],
   "metadata": {
    "collapsed": false,
    "ExecuteTime": {
     "end_time": "2023-10-21T03:41:17.637093700Z",
     "start_time": "2023-10-21T03:41:17.618095700Z"
    }
   },
   "id": "f73ac11aac211fc"
  },
  {
   "cell_type": "code",
   "execution_count": 57,
   "outputs": [
    {
     "name": "stdout",
     "output_type": "stream",
     "text": [
      "<PowBackward0 object at 0x00000288405952E0>\n",
      "None\n"
     ]
    }
   ],
   "source": [
    "# 查看复合函数是否能够自动求偏导数\n",
    "print(loss1.grad_fn)\n",
    "print(loss2.grad_fn)\n",
    "\n",
    "loss1.backward()"
   ],
   "metadata": {
    "collapsed": false,
    "ExecuteTime": {
     "end_time": "2023-10-21T03:41:17.660093700Z",
     "start_time": "2023-10-21T03:41:17.634095400Z"
    }
   },
   "id": "ec266694709077d6"
  },
  {
   "cell_type": "code",
   "execution_count": 58,
   "outputs": [
    {
     "name": "stdout",
     "output_type": "stream",
     "text": [
      "tensor([-9.2356]) None None\n",
      "tensor([-9.2356])\n",
      "None\n"
     ]
    }
   ],
   "source": [
    "#查看m1和m2的偏导值\n",
    "print(m1.grad,b1.grad,m2.grad)\n",
    "print(m1.grad)\n",
    "print(m2.grad)"
   ],
   "metadata": {
    "collapsed": false,
    "ExecuteTime": {
     "end_time": "2023-10-21T03:41:17.739619600Z",
     "start_time": "2023-10-21T03:41:17.648094700Z"
    }
   },
   "id": "e8ab74ccece4d13c"
  },
  {
   "cell_type": "code",
   "execution_count": 59,
   "outputs": [
    {
     "name": "stdout",
     "output_type": "stream",
     "text": [
      "tensor([-9.2356], grad_fn=<MulBackward0>)\n",
      "tensor([True])\n"
     ]
    }
   ],
   "source": [
    "mpd1 =  2 * (y - (m1 * x +b1)) * (-1 * x )\n",
    "print(mpd1)\n",
    "print((mpd1 == m1.grad))"
   ],
   "metadata": {
    "collapsed": false,
    "ExecuteTime": {
     "end_time": "2023-10-21T03:41:17.749118500Z",
     "start_time": "2023-10-21T03:41:17.664094700Z"
    }
   },
   "id": "4346ee37e96628c5"
  }
 ],
 "metadata": {
  "kernelspec": {
   "display_name": "Python 3",
   "language": "python",
   "name": "python3"
  },
  "language_info": {
   "codemirror_mode": {
    "name": "ipython",
    "version": 2
   },
   "file_extension": ".py",
   "mimetype": "text/x-python",
   "name": "python",
   "nbconvert_exporter": "python",
   "pygments_lexer": "ipython2",
   "version": "2.7.6"
  }
 },
 "nbformat": 4,
 "nbformat_minor": 5
}
